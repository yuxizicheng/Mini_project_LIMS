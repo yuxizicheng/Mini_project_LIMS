{
 "cells": [
  {
   "cell_type": "code",
   "execution_count": null,
   "id": "5bd2c05d",
   "metadata": {},
   "outputs": [],
   "source": [
    "import pandas as pd\n",
    "import math\n",
    "from openpyxl import load_workbook\n",
    "from openpyxl.styles import PatternFill"
   ]
  },
  {
   "cell_type": "code",
   "execution_count": null,
   "id": "8ffd81db",
   "metadata": {},
   "outputs": [],
   "source": [
    "df = pd.read_excel('/Users/liucheng/Desktop/Yuecheng_LIMS_QC_MiniProject/Bacterial cell bank_mock data.xlsx')\n",
    "df.head()\n",
    "# Import raw data  and display the first five rows\n",
    "# Rename column for superscript\n",
    "df = df.rename(columns={'Cell Viability (107)':'Cell Viability (10⁷)'})\n",
    "df.head()"
   ]
  },
  {
   "cell_type": "code",
   "execution_count": null,
   "id": "d42bcb6b",
   "metadata": {},
   "outputs": [],
   "source": [
    "# Define specifications for each test. In a pharmaceutical lab, specifications are defined in the documentation system and are regularly updated to ensure compliance with quality standards\n",
    "spec_dict = {\n",
    "    'Plasmid Retention Test (%)':{'type':'numeric','min':85},\n",
    "        'Cell Viability (107)':{'type':'numeric','min':1.00},\n",
    "       'Product Expression_Result':{'type':'categorical','allowed':['Pass']}\n",
    "}\n",
    "# Define a function to flag Pass/Fail\n",
    "def flag_result(row, spec_dict):\n",
    "    for test, rules in spec_dict.items():\n",
    "        if test in row:\n",
    "            if rules['type']=='numeric':\n",
    "                value = row[test]\n",
    "                min_val = rules.get('min', -math.inf)\n",
    "                max_val = rules.get('max',math.inf)\n",
    "                if not(min_val <= value<= max_val):\n",
    "                    return 'Fail'\n",
    "            elif rules['type']=='categorical':\n",
    "                if row[test] not in rules['allowed']:\n",
    "                    return 'Fail'\n",
    "    return 'Pass'\n",
    "\n",
    "# Add a column in excel called \"Pass/Fail\" check\n",
    "df['Pass/Fail']= df.apply(lambda row:flag_result(row, spec_dict), axis=1)\n",
    "\n",
    "#Save the QC testing results in a new excel file called Bacterial Cell Bank_qc_results.xlsx\n",
    "excel_file ='/Users/liucheng/Desktop/Yuecheng_LIMS_QC_MiniProject/Bacterial Cell Bank_qc_results.xlsx'\n",
    "df.to_excel(excel_file, index=False)\n",
    "\n",
    "# I want to fill the cells with \"Pass\" in green, \"Fail\" in red\n",
    "# Open the Excel with openpyxl to add colors\n",
    "wb = load_workbook(excel_file)\n",
    "ws = wb.active\n",
    "\n",
    "# Define fills\n",
    "fills = {\n",
    "    'Pass': PatternFill(fill_type=\"solid\", start_color=\"90EE90\"),  # light green\n",
    "    'Fail': PatternFill(fill_type=\"solid\", start_color=\"FF7F7F\")   # light red\n",
    "}\n",
    "\n",
    "# Highlight entire row if Fail\n",
    "for row in range(2, ws.max_row + 1):  # skip header\n",
    "    pass_fail_cell = ws.cell(row=row, column=df.columns.get_loc(\"Pass/Fail\")+1)\n",
    "    if pass_fail_cell.value == \"Fail\":\n",
    "        for col in range(1, ws.max_column + 1):\n",
    "            ws.cell(row=row, column=col).fill = fills[\"Fail\"]\n",
    "    else:\n",
    "        ws.cell(row=row, column=df.columns.get_loc(\"Pass/Fail\")+1).fill = fills[\"Pass\"]\n",
    "# Save final colored Excel\n",
    "wb.save('/Users/liucheng/Desktop/Yuecheng_LIMS_QC_MiniProject/Bacterial Cell Bank_qc_results_colored.xlsx')"
   ]
  }
 ],
 "metadata": {
  "kernelspec": {
   "display_name": "py3.9(quant)",
   "language": "python",
   "name": "quant"
  },
  "language_info": {
   "codemirror_mode": {
    "name": "ipython",
    "version": 3
   },
   "file_extension": ".py",
   "mimetype": "text/x-python",
   "name": "python",
   "nbconvert_exporter": "python",
   "pygments_lexer": "ipython3",
   "version": "3.9.16"
  }
 },
 "nbformat": 4,
 "nbformat_minor": 5
}
